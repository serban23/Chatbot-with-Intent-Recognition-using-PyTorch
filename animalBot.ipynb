{
 "cells": [
  {
   "cell_type": "code",
   "execution_count": null,
   "id": "d86561a0",
   "metadata": {},
   "outputs": [
    {
     "name": "stderr",
     "output_type": "stream",
     "text": [
      "[nltk_data] Downloading package punkt to C:\\Users\\E.\n",
      "[nltk_data]     Serban\\AppData\\Roaming\\nltk_data...\n",
      "[nltk_data]   Package punkt is already up-to-date!\n"
     ]
    },
    {
     "data": {
      "text/plain": [
       "True"
      ]
     },
     "execution_count": 13,
     "metadata": {},
     "output_type": "execute_result"
    }
   ],
   "source": [
    "import numpy as np\n",
    "import nltk\n",
    "from nltk.stem.porter import PorterStemmer\n",
    "import json\n",
    "from torch.utils.data import Dataset, DataLoader\n",
    "import torch\n",
    "import torch.nn as nn\n",
    "import random\n",
    "nltk.download('punkt')"
   ]
  },
  {
   "cell_type": "code",
   "execution_count": 14,
   "id": "976d6789",
   "metadata": {},
   "outputs": [],
   "source": [
    "def tokenize(sentece):\n",
    "    return nltk.word_tokenize(sentece)\n",
    "\n",
    "def stem(word):\n",
    "    stemer = PorterStemmer()\n",
    "    return stemer.stem(word.lower())\n",
    "\n",
    "def bag_of_words(tokenized_sentace, all_words):\n",
    "    bag = np.zeros(len(all_words), dtype=np.float32)\n",
    "    tokenized_sentace = [stem(w) for w in tokenized_sentace]\n",
    "    \n",
    "    for idx, w in enumerate(all_words):\n",
    "        if w in tokenized_sentace:\n",
    "            bag[idx] = 1.0\n",
    "\n",
    "    return bag"
   ]
  },
  {
   "cell_type": "code",
   "execution_count": 15,
   "id": "05561f89",
   "metadata": {},
   "outputs": [
    {
     "name": "stdout",
     "output_type": "stream",
     "text": [
      "['goodbye', 'greeting', 'habitat_crocodil', 'habitat_elefant', 'habitat_girafa', 'habitat_panda', 'habitat_tigru', 'hrana_crocodil', 'hrana_elefant', 'hrana_girafa', 'hrana_panda', 'hrana_tigru', 'periculos_crocodil', 'periculos_elefant', 'periculos_girafa', 'periculos_panda', 'periculos_tigru', 'viata_crocodil', 'viata_elefant', 'viata_girafa', 'viata_panda', 'viata_tigru']\n",
      "['a', 'agresiv', 'agresiva', 'ani', 'ataca', 'auzim', 'buna', 'care', 'cat', 'cati', 'ce', 'ceau', 'consuma', 'crocodil', 'crocodilul', 'crocodilului', 'cu', 'curand', 'de', 'durata', 'e', 'elef', 'elefantul', 'elefantului', 'est', 'faci', 'fi', 'gasest', 'girafa', 'girafei', 'habitat', 'habitatul', 'hei', 'hrana', 'hranest', 'in', 'la', 'mananca', 'mediu', 'mult', 'ne', 'o', 'oameni', 'pa', 'panda', 'pe', 'periculo', 'periculoasa', 'poat', 'reveder', 'salut', 'se', 'tigru', 'tigrul', 'tigrului', 'traiest', 'un', 'und', 'ursului', 'viata', 'zona', 'zonel']\n"
     ]
    }
   ],
   "source": [
    "with open('intents.json', 'r') as f:\n",
    "    model = json.load(f)\n",
    "\n",
    "tags = []\n",
    "xy = []\n",
    "all_words = []\n",
    "ignore_words = ['?', '!', '.', ',']\n",
    "\n",
    "for intent in model['intents']:\n",
    "    tag = intent['tag']\n",
    "    tags.append(tag)\n",
    "    for pattern in intent['patterns']:\n",
    "        tokens = tokenize(pattern)\n",
    "        all_words.extend(tokens)\n",
    "        xy.append((tokens, tag))\n",
    " \n",
    "all_words = [stem(w) for w in all_words if w not in ignore_words]\n",
    "all_words = sorted(set(all_words))\n",
    "tags = sorted(set(tags))\n",
    "\n",
    "print(tags)\n",
    "print(all_words)\n",
    "\n",
    "X_train = []\n",
    "y_train = []\n",
    "\n",
    "for pattern, tag in xy:\n",
    "    bag = bag_of_words(pattern, all_words)\n",
    "    X_train.append(bag)\n",
    "\n",
    "    label = tags.index(tag)\n",
    "    y_train.append(label)\n",
    "\n",
    "X_train = np.array(X_train)\n",
    "y_train = np.array(y_train)"
   ]
  },
  {
   "cell_type": "code",
   "execution_count": 16,
   "id": "ebdf9ff2",
   "metadata": {},
   "outputs": [],
   "source": [
    "class ChatDataset(Dataset):\n",
    "    def __init__(self):\n",
    "        self.n_samples = len(X_train)\n",
    "        self.x_data = X_train\n",
    "        self.y_data = y_train.astype(np.int64)\n",
    "\n",
    "    def __getitem__(self, index):\n",
    "        return self.x_data[index], self.y_data[index].squeeze()\n",
    "    \n",
    "    def __len__(self):\n",
    "        return self.n_samples"
   ]
  },
  {
   "cell_type": "code",
   "execution_count": 17,
   "id": "95566a59",
   "metadata": {},
   "outputs": [],
   "source": [
    "\n",
    "class NeuralNet(nn.Module):\n",
    "    def __init__(self, input_size, hidden_size, num_classes):\n",
    "        super(NeuralNet, self).__init__()\n",
    "        self.layer_1 = nn.Linear(input_size, hidden_size)\n",
    "        self.layer_2 = nn.Linear(hidden_size, hidden_size)\n",
    "        self.layer_3 = nn.Linear(hidden_size, hidden_size)\n",
    "        self.layer_4 = nn.Linear(hidden_size, num_classes)\n",
    "        self.relu = nn.ReLU()\n",
    "\n",
    "    def forward(self, x):\n",
    "        out = self.layer_1(x)\n",
    "        out = self.relu(out)\n",
    "        out = self.layer_2(out)\n",
    "        out = self.relu(out)\n",
    "        out = self.layer_3(out)\n",
    "        out = self.relu(out)\n",
    "        out = self.layer_4(out)\n",
    "        return out"
   ]
  },
  {
   "cell_type": "code",
   "execution_count": 18,
   "id": "fa129601",
   "metadata": {},
   "outputs": [
    {
     "name": "stdout",
     "output_type": "stream",
     "text": [
      "epoch 100/1000, loss=0.1093\n",
      "epoch 200/1000, loss=0.0028\n",
      "epoch 300/1000, loss=0.0013\n",
      "epoch 400/1000, loss=0.0004\n",
      "epoch 500/1000, loss=0.0003\n",
      "epoch 600/1000, loss=0.0001\n",
      "epoch 700/1000, loss=0.0001\n",
      "epoch 800/1000, loss=0.0000\n",
      "epoch 900/1000, loss=0.0000\n",
      "epoch 1000/1000, loss=0.0000\n",
      "final loss=0.0000\n"
     ]
    }
   ],
   "source": [
    "dataset = ChatDataset()\n",
    "\n",
    "batch_size = 8\n",
    "hidden_size = 16\n",
    "output_size = len(tags)\n",
    "input_size = len(X_train[0])\n",
    "learning_rate = .001\n",
    "num_epochs = 1000\n",
    "\n",
    "train_loader = DataLoader(dataset=dataset, batch_size=batch_size, shuffle=True, num_workers=0)\n",
    "\n",
    "device = torch.device('cuda' if torch.cuda.is_available() else 'cpu')\n",
    "model = NeuralNet(input_size, hidden_size, output_size).to(device=device)\n",
    "\n",
    "criterion = nn.CrossEntropyLoss()\n",
    "optimizer = torch.optim.Adam(model.parameters(), lr=learning_rate)\n",
    "\n",
    "for epoch in range(num_epochs):\n",
    "    for batch in train_loader:\n",
    "        words, labels = batch\n",
    "        words = words.to(device)\n",
    "        labels = labels.to(device)\n",
    "\n",
    "        # forward\n",
    "        outputs = model(words)\n",
    "        loss = criterion(outputs, labels)\n",
    "\n",
    "        optimizer.zero_grad()\n",
    "        loss.backward()\n",
    "        optimizer.step()\n",
    "\n",
    "    if (epoch + 1) % 100 == 0:\n",
    "        print(f'epoch {epoch+1}/{num_epochs}, loss={loss.item():.4f}')\n",
    "\n",
    "print(f'final loss={loss.item():.4f}')"
   ]
  },
  {
   "cell_type": "code",
   "execution_count": 19,
   "id": "87d019c9",
   "metadata": {},
   "outputs": [
    {
     "name": "stdout",
     "output_type": "stream",
     "text": [
      "We have 22 topics !\n",
      "Training complete. File saved to data.pth\n"
     ]
    }
   ],
   "source": [
    "data = {\n",
    "    'model_state' : model.state_dict(),\n",
    "    'input_size' : input_size,\n",
    "    'output_size' : output_size,\n",
    "    'hidden_size' : hidden_size,\n",
    "    'all_words' : all_words,\n",
    "    'tags' : tags,\n",
    "}\n",
    "\n",
    "FILE = 'data.pth'\n",
    "torch.save(data, FILE)\n",
    "\n",
    "print(f'We have {len(tags)} topics !')\n",
    "print(f'Training complete. File saved to {FILE}')"
   ]
  },
  {
   "cell_type": "code",
   "execution_count": null,
   "id": "9787537c",
   "metadata": {},
   "outputs": [
    {
     "name": "stdout",
     "output_type": "stream",
     "text": [
      "Let's chat ! type quit for exit\n"
     ]
    }
   ],
   "source": [
    "device = torch.device('cuda' if torch.cuda.is_available() else 'cpu')\n",
    "\n",
    "with open('intents.json', 'r') as f:\n",
    "    intents = json.load(f)\n",
    "FILE = 'data.pth'\n",
    "data = torch.load(FILE)\n",
    "\n",
    "input_size = data['input_size']\n",
    "hidden_size = data['hidden_size']\n",
    "output_size = data['output_size']\n",
    "all_words = data['all_words']\n",
    "tags = data['tags']\n",
    "model_state = data['model_state']\n",
    "\n",
    "model = NeuralNet(input_size, hidden_size, output_size).to(device=device)\n",
    "model.load_state_dict(model_state)\n",
    "model.eval()\n",
    "\n",
    "bot_name = 'Nicusor'\n",
    "print(\"Let's chat ! type quit for exit\")\n",
    "\n",
    "while True:\n",
    "    sentace = input('You: ')\n",
    "    if sentace == 'quit':\n",
    "        break\n",
    "\n",
    "    sentace = tokenize(sentace)\n",
    "    X = bag_of_words(sentace, all_words)\n",
    "    X = X.reshape(1, X.shape[0])\n",
    "    X = torch.from_numpy(X)\n",
    "\n",
    "    output = model(X)\n",
    "    _, predicted = torch.max(output, dim=1)\n",
    "    tag = tags[predicted.item()]\n",
    "\n",
    "    probs = torch.softmax(output, dim=1)\n",
    "    prob = probs[0][predicted.item()]\n",
    "\n",
    "    if prob.item() > 0.75:\n",
    "        for intent in intents['intents']:\n",
    "            if tag == intent['tag']:\n",
    "                respons = random.choice(intent['responses'])\n",
    "                print(f\"{bot_name}: {respons}\")\n",
    "    else:\n",
    "\n",
    "        print('I do not understand...')"
   ]
  }
 ],
 "metadata": {
  "kernelspec": {
   "display_name": "Python 3",
   "language": "python",
   "name": "python3"
  },
  "language_info": {
   "codemirror_mode": {
    "name": "ipython",
    "version": 3
   },
   "file_extension": ".py",
   "mimetype": "text/x-python",
   "name": "python",
   "nbconvert_exporter": "python",
   "pygments_lexer": "ipython3",
   "version": "3.10.9"
  }
 },
 "nbformat": 4,
 "nbformat_minor": 5
}
